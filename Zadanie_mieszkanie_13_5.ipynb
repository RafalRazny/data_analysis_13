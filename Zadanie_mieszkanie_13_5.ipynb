{
 "cells": [
  {
   "cell_type": "code",
   "execution_count": 11,
   "id": "90cf6ba0",
   "metadata": {},
   "outputs": [],
   "source": [
    "import numpy as np\n",
    "import numpy_financial as npf\n",
    "value_apart = 120000\n",
    "years = 5\n",
    "months = 12\n",
    "deposit_rate = 0.12\n",
    "value_apart_increase = 0.05\n",
    "nper = years*months\n",
    "monthly_deposit_rate = deposit_rate/12"
   ]
  },
  {
   "cell_type": "code",
   "execution_count": 15,
   "id": "8f6a3e8a",
   "metadata": {},
   "outputs": [
    {
     "name": "stdout",
     "output_type": "stream",
     "text": [
      "Given the 5% annual value increase of the real estate market, the value of the apartment after five years will rise from 120000 to 153153.79\n"
     ]
    }
   ],
   "source": [
    "value_apart_increase = np.around(npf.fv(rate=0.05, nper=years, pmt=0, pv=-120000), 2)\n",
    "print(f'Given the 5% annual value increase of the real estate market, the value of the apartment after five years will rise from {value_apart} to {value_apart_increase}')"
   ]
  },
  {
   "cell_type": "code",
   "execution_count": 34,
   "id": "84487b7a",
   "metadata": {
    "scrolled": true
   },
   "outputs": [
    {
     "name": "stdout",
     "output_type": "stream",
     "text": [
      "Taking into account the 12% deposit rate one must deposit 1875.28 monthly in order to collect suffient amount to buy the aparatment for 153153.79\n"
     ]
    }
   ],
   "source": [
    "monthly_savings =  np.around(- npf.pmt(rate=monthly_deposit_rate, nper=nper, pv=0, fv=value_apart_increase), 2)\n",
    "print(f'Taking into account the 12% deposit rate one must deposit {monthly_savings} monthly in order to collect suffient amount to buy the aparatment for {value_apart_increase}')"
   ]
  },
  {
   "cell_type": "code",
   "execution_count": 20,
   "id": "86095c7b",
   "metadata": {},
   "outputs": [
    {
     "name": "stdout",
     "output_type": "stream",
     "text": [
      "The monthly value increase of the apartments is presented in the following array\n"
     ]
    },
    {
     "data": {
      "text/plain": [
       "array([120000.  , 120561.93, 121123.86, 121685.79, 122247.71, 122809.64,\n",
       "       123371.57, 123933.5 , 124495.43, 125057.36, 125619.29, 126181.22,\n",
       "       126743.14, 127305.07, 127867.  , 128428.93, 128990.86, 129552.79,\n",
       "       130114.72, 130676.64, 131238.57, 131800.5 , 132362.43, 132924.36,\n",
       "       133486.29, 134048.22, 134610.14, 135172.07, 135734.  , 136295.93,\n",
       "       136857.86, 137419.79, 137981.72, 138543.65, 139105.57, 139667.5 ,\n",
       "       140229.43, 140791.36, 141353.29, 141915.22, 142477.15, 143039.07,\n",
       "       143601.  , 144162.93, 144724.86, 145286.79, 145848.72, 146410.65,\n",
       "       146972.57, 147534.5 , 148096.43, 148658.36, 149220.29, 149782.22,\n",
       "       150344.15, 150906.08, 151468.  , 152029.93, 152591.86, 153153.79])"
      ]
     },
     "execution_count": 20,
     "metadata": {},
     "output_type": "execute_result"
    }
   ],
   "source": [
    "print('The monthly value increase of the apartments is presented in the following array')\n",
    "monthly_value_apart = np.around(np.linspace(120000,value_apart_increase, num=60), 2)\n",
    "monthly_value_apart"
   ]
  },
  {
   "cell_type": "markdown",
   "id": "3a2c759a",
   "metadata": {},
   "source": [
    "To calculation of the cumulative increase of the value of savings on deposit will be devided into the creation of the array of monthly deposit and monthly gained intrest rate. Both values will be added and cumulated."
   ]
  },
  {
   "cell_type": "code",
   "execution_count": 22,
   "id": "46350318",
   "metadata": {},
   "outputs": [
    {
     "data": {
      "text/plain": [
       "array([1875.28, 1875.28, 1875.28, 1875.28, 1875.28, 1875.28, 1875.28,\n",
       "       1875.28, 1875.28, 1875.28, 1875.28, 1875.28, 1875.28, 1875.28,\n",
       "       1875.28, 1875.28, 1875.28, 1875.28, 1875.28, 1875.28, 1875.28,\n",
       "       1875.28, 1875.28, 1875.28, 1875.28, 1875.28, 1875.28, 1875.28,\n",
       "       1875.28, 1875.28, 1875.28, 1875.28, 1875.28, 1875.28, 1875.28,\n",
       "       1875.28, 1875.28, 1875.28, 1875.28, 1875.28, 1875.28, 1875.28,\n",
       "       1875.28, 1875.28, 1875.28, 1875.28, 1875.28, 1875.28, 1875.28,\n",
       "       1875.28, 1875.28, 1875.28, 1875.28, 1875.28, 1875.28, 1875.28,\n",
       "       1875.28, 1875.28, 1875.28, 1875.28])"
      ]
     },
     "execution_count": 22,
     "metadata": {},
     "output_type": "execute_result"
    }
   ],
   "source": [
    "monthly_deposit_arr = np.zeros(nper) + monthly_savings\n",
    "monthly_deposit_arr"
   ]
  },
  {
   "cell_type": "markdown",
   "id": "f2ebae4c",
   "metadata": {},
   "source": [
    "Array of monthly deposit"
   ]
  },
  {
   "cell_type": "code",
   "execution_count": 24,
   "id": "332e865d",
   "metadata": {},
   "outputs": [
    {
     "data": {
      "text/plain": [
       "array([  -0.        ,   18.75283569,   37.69319974,   56.82296744,\n",
       "         76.1440328 ,   95.65830883,  115.36772761,  135.27424058,\n",
       "        155.37981868,  175.68645256,  196.19615278,  216.91095   ,\n",
       "        237.8328952 ,  258.96405984,  280.30653613,  301.86243719,\n",
       "        323.63389725,  345.62307192,  367.83213833,  390.26329541,\n",
       "        412.91876406,  435.80078739,  458.91163096,  482.25358297,\n",
       "        505.82895449,  529.64007973,  553.68931622,  577.97904508,\n",
       "        602.51167122,  627.28962363,  652.31535556,  677.59134481,\n",
       "        703.12009395,  728.90413058,  754.94600758,  781.24830335,\n",
       "        807.81362208,  834.64459399,  861.74387563,  889.11415008,\n",
       "        916.75812727,  944.67854424,  972.87816538, 1001.35978272,\n",
       "       1030.12621625, 1059.1803141 , 1088.52495294, 1118.16303816,\n",
       "       1148.09750424, 1178.33131497, 1208.86746382, 1239.70897415,\n",
       "       1270.85889958, 1302.32032427, 1334.09636321, 1366.19016254,\n",
       "       1398.60489986, 1431.34378455, 1464.41005809, 1497.80699436])"
      ]
     },
     "execution_count": 24,
     "metadata": {},
     "output_type": "execute_result"
    }
   ],
   "source": [
    "periods = np.arange(1,61,dtype=int)\n",
    "monthly_intrest = npf.ipmt(monthly_deposit_rate, periods, 60, pv=0, fv=value_apart_increase)\n",
    "monthly_intrest"
   ]
  },
  {
   "cell_type": "markdown",
   "id": "cc33ddce",
   "metadata": {},
   "source": [
    "Array of monthly gained intrest rates"
   ]
  },
  {
   "cell_type": "code",
   "execution_count": 27,
   "id": "8c9e45a3",
   "metadata": {},
   "outputs": [
    {
     "data": {
      "text/plain": [
       "array([1875.28      , 1894.03283569, 1912.97319974, 1932.10296744,\n",
       "       1951.4240328 , 1970.93830883, 1990.64772761, 2010.55424058,\n",
       "       2030.65981868, 2050.96645256, 2071.47615278, 2092.19095   ,\n",
       "       2113.1128952 , 2134.24405984, 2155.58653613, 2177.14243719,\n",
       "       2198.91389725, 2220.90307192, 2243.11213833, 2265.54329541,\n",
       "       2288.19876406, 2311.08078739, 2334.19163096, 2357.53358297,\n",
       "       2381.10895449, 2404.92007973, 2428.96931622, 2453.25904508,\n",
       "       2477.79167122, 2502.56962363, 2527.59535556, 2552.87134481,\n",
       "       2578.40009395, 2604.18413058, 2630.22600758, 2656.52830335,\n",
       "       2683.09362208, 2709.92459399, 2737.02387563, 2764.39415008,\n",
       "       2792.03812727, 2819.95854424, 2848.15816538, 2876.63978272,\n",
       "       2905.40621625, 2934.4603141 , 2963.80495294, 2993.44303816,\n",
       "       3023.37750424, 3053.61131497, 3084.14746382, 3114.98897415,\n",
       "       3146.13889958, 3177.60032427, 3209.37636321, 3241.47016254,\n",
       "       3273.88489986, 3306.62378455, 3339.69005809, 3373.08699436])"
      ]
     },
     "execution_count": 27,
     "metadata": {},
     "output_type": "execute_result"
    }
   ],
   "source": [
    "net_savings_increase = monthly_deposit_arr + monthly_intrest\n",
    "net_savings_increase"
   ]
  },
  {
   "cell_type": "code",
   "execution_count": 30,
   "id": "10018d4a",
   "metadata": {},
   "outputs": [
    {
     "data": {
      "text/plain": [
       "array([  1875.28,   3769.31,   5682.29,   7614.39,   9565.81,  11536.75,\n",
       "        13527.4 ,  15537.95,  17568.61,  19619.58,  21691.06,  23783.25,\n",
       "        25896.36,  28030.6 ,  30186.19,  32363.33,  34562.25,  36783.15,\n",
       "        39026.26,  41291.81,  43580.  ,  45891.08,  48225.28,  50582.81,\n",
       "        52963.92,  55368.84,  57797.81,  60251.07,  62728.86,  65231.43,\n",
       "        67759.02,  70311.9 ,  72890.3 ,  75494.48,  78124.71,  80781.23,\n",
       "        83464.33,  86174.25,  88911.28,  91675.67,  94467.71,  97287.67,\n",
       "       100135.82, 103012.46, 105917.87, 108852.33, 111816.14, 114809.58,\n",
       "       117832.96, 120886.57, 123970.72, 127085.7 , 130231.84, 133409.44,\n",
       "       136618.82, 139860.29, 143134.17, 146440.8 , 149780.49, 153153.58])"
      ]
     },
     "execution_count": 30,
     "metadata": {},
     "output_type": "execute_result"
    }
   ],
   "source": [
    "cumulative_monthly_savings = np.around(net_savings_increase.cumsum(), 2)\n",
    "cumulative_monthly_savings"
   ]
  },
  {
   "cell_type": "markdown",
   "id": "e255e9e1",
   "metadata": {},
   "source": [
    "Array of cumulative evolution of monthly savings"
   ]
  },
  {
   "cell_type": "code",
   "execution_count": 33,
   "id": "ddcccded",
   "metadata": {},
   "outputs": [
    {
     "name": "stdout",
     "output_type": "stream",
     "text": [
      "The following graph will show the monthly evolution of the cumulative savigns value and the increase of the apartment value\n"
     ]
    },
    {
     "data": {
      "text/plain": [
       "Text(0, 0.5, 'Cumulative value')"
      ]
     },
     "execution_count": 33,
     "metadata": {},
     "output_type": "execute_result"
    },
    {
     "data": {
      "image/png": "[encoded data removed]",
      "text/plain": [
       "<Figure size 432x288 with 1 Axes>"
      ]
     },
     "metadata": {
      "needs_background": "light"
     },
     "output_type": "display_data"
    }
   ],
   "source": [
    "import matplotlib.pyplot as plt\n",
    "\n",
    "print('The following graph will show the monthly evolution of the cumulative savigns value and the increase of the apartment value')\n",
    "\n",
    "plt.plot(cumulative_monthly_savings,label='Cumulative savigns value')\n",
    "plt.plot(monthly_value_apart,label='Increase of the apartment value')\n",
    "plt.legend()\n",
    "plt.xlabel('Number of months')\n",
    "plt.ylabel('Cumulative value')"
   ]
  }
 ],
 "metadata": {
  "kernelspec": {
   "display_name": "Python 3 (ipykernel)",
   "language": "python",
   "name": "python3"
  },
  "language_info": {
   "codemirror_mode": {
    "name": "ipython",
    "version": 3
   },
   "file_extension": ".py",
   "mimetype": "text/x-python",
   "name": "python",
   "nbconvert_exporter": "python",
   "pygments_lexer": "ipython3",
   "version": "3.9.7"
  }
 },
 "nbformat": 4,
 "nbformat_minor": 5
}
