{
 "cells": [
  {
   "cell_type": "markdown",
   "id": "0e3efd5c",
   "metadata": {},
   "source": [
    "## Statistics for life expectancy at birth in sample of 20 states\n",
    "\n",
    "The present report analyses life expectancy at birth in sample of 20 states on the basis of the following parameters: \n",
    "\n",
    "- artimetric mean\n",
    "- median\n",
    "- stochastic dominance\n",
    "- variance\n",
    "- standard deviation\n",
    "- coefficient of variation\n",
    "- covariance\n",
    "- correlation\n",
    "- mean in confidence intervals\n",
    "\n",
    "The input to analysis is th following:"
   ]
  },
  {
   "cell_type": "code",
   "execution_count": 3,
   "id": "ee0eb445",
   "metadata": {},
   "outputs": [
    {
     "data": {
      "text/html": [
       "<div>\n",
       "<style scoped>\n",
       "    .dataframe tbody tr th:only-of-type {\n",
       "        vertical-align: middle;\n",
       "    }\n",
       "\n",
       "    .dataframe tbody tr th {\n",
       "        vertical-align: top;\n",
       "    }\n",
       "\n",
       "    .dataframe thead th {\n",
       "        text-align: right;\n",
       "    }\n",
       "</style>\n",
       "<table border=\"1\" class=\"dataframe\">\n",
       "  <thead>\n",
       "    <tr style=\"text-align: right;\">\n",
       "      <th></th>\n",
       "      <th>Fertility rate</th>\n",
       "      <th>Life expectancy at birth</th>\n",
       "    </tr>\n",
       "    <tr>\n",
       "      <th>Country</th>\n",
       "      <th></th>\n",
       "      <th></th>\n",
       "    </tr>\n",
       "  </thead>\n",
       "  <tbody>\n",
       "    <tr>\n",
       "      <th>1</th>\n",
       "      <td>1.300</td>\n",
       "      <td>76.84878</td>\n",
       "    </tr>\n",
       "    <tr>\n",
       "      <th>2</th>\n",
       "      <td>1.950</td>\n",
       "      <td>81.40732</td>\n",
       "    </tr>\n",
       "    <tr>\n",
       "      <th>3</th>\n",
       "      <td>2.466</td>\n",
       "      <td>77.57895</td>\n",
       "    </tr>\n",
       "    <tr>\n",
       "      <th>4</th>\n",
       "      <td>1.600</td>\n",
       "      <td>74.16341</td>\n",
       "    </tr>\n",
       "    <tr>\n",
       "      <th>5</th>\n",
       "      <td>2.952</td>\n",
       "      <td>68.84907</td>\n",
       "    </tr>\n",
       "    <tr>\n",
       "      <th>6</th>\n",
       "      <td>1.801</td>\n",
       "      <td>73.88595</td>\n",
       "    </tr>\n",
       "    <tr>\n",
       "      <th>7</th>\n",
       "      <td>1.340</td>\n",
       "      <td>75.26829</td>\n",
       "    </tr>\n",
       "    <tr>\n",
       "      <th>8</th>\n",
       "      <td>1.340</td>\n",
       "      <td>76.26098</td>\n",
       "    </tr>\n",
       "    <tr>\n",
       "      <th>9</th>\n",
       "      <td>1.630</td>\n",
       "      <td>80.57244</td>\n",
       "    </tr>\n",
       "    <tr>\n",
       "      <th>10</th>\n",
       "      <td>2.326</td>\n",
       "      <td>65.46259</td>\n",
       "    </tr>\n",
       "    <tr>\n",
       "      <th>11</th>\n",
       "      <td>2.436</td>\n",
       "      <td>67.54820</td>\n",
       "    </tr>\n",
       "    <tr>\n",
       "      <th>12</th>\n",
       "      <td>6.563</td>\n",
       "      <td>55.02451</td>\n",
       "    </tr>\n",
       "    <tr>\n",
       "      <th>13</th>\n",
       "      <td>1.283</td>\n",
       "      <td>76.27990</td>\n",
       "    </tr>\n",
       "    <tr>\n",
       "      <th>14</th>\n",
       "      <td>1.430</td>\n",
       "      <td>82.29024</td>\n",
       "    </tr>\n",
       "    <tr>\n",
       "      <th>15</th>\n",
       "      <td>1.988</td>\n",
       "      <td>69.80695</td>\n",
       "    </tr>\n",
       "    <tr>\n",
       "      <th>16</th>\n",
       "      <td>1.610</td>\n",
       "      <td>81.40112</td>\n",
       "    </tr>\n",
       "    <tr>\n",
       "      <th>17</th>\n",
       "      <td>1.921</td>\n",
       "      <td>82.19756</td>\n",
       "    </tr>\n",
       "    <tr>\n",
       "      <th>18</th>\n",
       "      <td>2.400</td>\n",
       "      <td>74.22683</td>\n",
       "    </tr>\n",
       "    <tr>\n",
       "      <th>19</th>\n",
       "      <td>1.495</td>\n",
       "      <td>80.12880</td>\n",
       "    </tr>\n",
       "    <tr>\n",
       "      <th>20</th>\n",
       "      <td>4.705</td>\n",
       "      <td>45.55095</td>\n",
       "    </tr>\n",
       "  </tbody>\n",
       "</table>\n",
       "</div>"
      ],
      "text/plain": [
       "         Fertility rate  Life expectancy at birth\n",
       "Country                                          \n",
       "1                 1.300                  76.84878\n",
       "2                 1.950                  81.40732\n",
       "3                 2.466                  77.57895\n",
       "4                 1.600                  74.16341\n",
       "5                 2.952                  68.84907\n",
       "6                 1.801                  73.88595\n",
       "7                 1.340                  75.26829\n",
       "8                 1.340                  76.26098\n",
       "9                 1.630                  80.57244\n",
       "10                2.326                  65.46259\n",
       "11                2.436                  67.54820\n",
       "12                6.563                  55.02451\n",
       "13                1.283                  76.27990\n",
       "14                1.430                  82.29024\n",
       "15                1.988                  69.80695\n",
       "16                1.610                  81.40112\n",
       "17                1.921                  82.19756\n",
       "18                2.400                  74.22683\n",
       "19                1.495                  80.12880\n",
       "20                4.705                  45.55095"
      ]
     },
     "execution_count": 3,
     "metadata": {},
     "output_type": "execute_result"
    }
   ],
   "source": [
    "import pandas as pd\n",
    "import numpy as np\n",
    "\n",
    "demographics = [\n",
    "    (1.3, 76.84878),\n",
    "    (1.95, 81.40732),\n",
    "    (2.466, 77.57895),\n",
    "    (1.6, 74.16341),\n",
    "    (2.952, 68.84907),\n",
    "    (1.801, 73.88595),\n",
    "    (1.34, 75.26829),\n",
    "    (1.34, 76.26098),\n",
    "    (1.63, 80.57244),\n",
    "    (2.326, 65.46259),\n",
    "    (2.436, 67.5482),\n",
    "    (6.563, 55.02451),\n",
    "    (1.283, 76.2799),\n",
    "    (1.43, 82.29024),\n",
    "    (1.988, 69.80695),\n",
    "    (1.61, 81.40112),\n",
    "    (1.921, 82.19756),\n",
    "    (2.4, 74.22683),\n",
    "    (1.495, 80.1288),\n",
    "    (4.705, 45.55095)\n",
    "]\n",
    "df = pd.DataFrame(demographics, columns = [\"Fertility rate\", \"Life expectancy at birth\" ])\n",
    "df.index = np.arange(1, 21)\n",
    "df.index.name = \"Country\"\n",
    "df"
   ]
  },
  {
   "cell_type": "markdown",
   "id": "5e00a345",
   "metadata": {},
   "source": [
    "The above table presents the fertility rate and life expectancy at birth in a sample of 20 states. The artimetric mean and median for the life expectancy at birth is the following:"
   ]
  },
  {
   "cell_type": "code",
   "execution_count": 9,
   "id": "836132aa",
   "metadata": {},
   "outputs": [
    {
     "name": "stdout",
     "output_type": "stream",
     "text": [
      "Mean for the life expectancy at birth: 73.237642 and the median is: 75.764635\n"
     ]
    }
   ],
   "source": [
    "median = df['Life expectancy at birth'].median()\n",
    "mean = (df['Life expectancy at birth'].mean())\n",
    "print(f'Mean for the life expectancy at birth: {mean} and the median is: {median}')"
   ]
  },
  {
   "cell_type": "markdown",
   "id": "34cc0554",
   "metadata": {},
   "source": [
    "There is no stochastic dominance as life expectancy at birth is different in every state."
   ]
  },
  {
   "cell_type": "code",
   "execution_count": 19,
   "id": "8a36c1c0",
   "metadata": {},
   "outputs": [
    {
     "name": "stdout",
     "output_type": "stream",
     "text": [
      "The variance of the life expectancy at birth equals to 88.19405436638526 and standard deviation to 9.391168956332606. It gives the coefficeint of varation on the level of 12.822871818200547%\n"
     ]
    }
   ],
   "source": [
    "variance = df.var()['Life expectancy at birth']\n",
    "standard_deviation = df['Life expectancy at birth'].std()\n",
    "coefficient_var = (standard_deviation/mean)*100\n",
    "print(f'The variance of the life expectancy at birth equals to {variance} and standard deviation to {standard_deviation}. It gives the coefficeint of varation on the level of {coefficient_var}%')\n"
   ]
  },
  {
   "cell_type": "markdown",
   "id": "03b81177",
   "metadata": {},
   "source": [
    "With the coefficient of variation of 12,82% we can tell that there is a small variation of life expectancy at birth.\n",
    "As regards the covariance and correlation, between fertility rate and life expectancy at birth, both parameters are negative."
   ]
  },
  {
   "cell_type": "code",
   "execution_count": 26,
   "id": "6be9a3c2",
   "metadata": {},
   "outputs": [
    {
     "name": "stdout",
     "output_type": "stream",
     "text": [
      "The covariance table\n",
      "                          Fertility rate  Life expectancy at birth\n",
      "Fertility rate                  1.665356                 -9.943701\n",
      "Life expectancy at birth       -9.943701                 88.194054 \n",
      "\n",
      "The correlation table\n",
      "                          Fertility rate  Life expectancy at birth\n",
      "Fertility rate                  1.000000                 -0.820493\n",
      "Life expectancy at birth       -0.820493                  1.000000\n"
     ]
    }
   ],
   "source": [
    "covariance = df.cov()\n",
    "print(\"The covariance table\")\n",
    "print(covariance, '\\n')\n",
    "print(\"The correlation table\")\n",
    "print(correlation)"
   ]
  },
  {
   "cell_type": "markdown",
   "id": "803ea465",
   "metadata": {},
   "source": [
    "Negative results indicate inverse correlation, meaning the higher ferility rate, the lower life expectancy at birth. The correlation of - 0,82, using the J. Guilford classification of correlation, can be interpreted as high with strong relation between ferility rate lower the life expectancy at birth. The the negative correlation is visible on the graph below. "
   ]
  },
  {
   "cell_type": "code",
   "execution_count": 27,
   "id": "6ad51a08",
   "metadata": {},
   "outputs": [
    {
     "data": {
      "text/plain": [
       "<seaborn.axisgrid.FacetGrid at 0x7ff062782dc0>"
      ]
     },
     "execution_count": 27,
     "metadata": {},
     "output_type": "execute_result"
    },
    {
     "data": {
      "image/png": "[encoded data removed]",
      "text/plain": [
       "<Figure size 360x360 with 1 Axes>"
      ]
     },
     "metadata": {
      "needs_background": "light"
     },
     "output_type": "display_data"
    }
   ],
   "source": [
    "import seaborn as sns\n",
    "sns.lmplot(data=df, x='Life expectancy at birth', y='Fertility rate')"
   ]
  },
  {
   "cell_type": "markdown",
   "id": "2f41fa4c",
   "metadata": {},
   "source": [
    "Now, the last parameter is the inidication of mean inntervals. It is calculated with the confidence level of 95% hence the value from the normalized normal distribution quals to 1,96."
   ]
  },
  {
   "cell_type": "code",
   "execution_count": 28,
   "id": "b64c1be0",
   "metadata": {},
   "outputs": [
    {
     "name": "stdout",
     "output_type": "stream",
     "text": [
      "Mean intervals equal to:\n"
     ]
    },
    {
     "data": {
      "text/plain": [
       "(69.12178073378908, 77.35350326621091)"
      ]
     },
     "execution_count": 28,
     "metadata": {},
     "output_type": "execute_result"
    }
   ],
   "source": [
    "def mean_intervals(data, confidence):\n",
    "    x = df[data].mean()\n",
    "    s = confidence * df[data].std()\n",
    "    n = len(df[data])\n",
    "    sqr_n = n ** 0.5\n",
    "    t_1 = x - ((s)/sqr_n)\n",
    "    t_2 = x + ((s)/sqr_n)\n",
    "    return (t_1, t_2)\n",
    "\n",
    "print(\"With confidence level of 95%, mean intervals equal to:\")\n",
    "mean_intervals('Life expectancy at birth', 1.96)"
   ]
  },
  {
   "cell_type": "markdown",
   "id": "71e46736",
   "metadata": {},
   "source": [
    "It means that there is a 95% probability that life expectany at birth will be between 69.12 and 77.35."
   ]
  },
  {
   "cell_type": "code",
   "execution_count": null,
   "id": "fd16d1b3",
   "metadata": {},
   "outputs": [],
   "source": []
  }
 ],
 "metadata": {
  "kernelspec": {
   "display_name": "Python 3 (ipykernel)",
   "language": "python",
   "name": "python3"
  },
  "language_info": {
   "codemirror_mode": {
    "name": "ipython",
    "version": 3
   },
   "file_extension": ".py",
   "mimetype": "text/x-python",
   "name": "python",
   "nbconvert_exporter": "python",
   "pygments_lexer": "ipython3",
   "version": "3.9.7"
  }
 },
 "nbformat": 4,
 "nbformat_minor": 5
}
